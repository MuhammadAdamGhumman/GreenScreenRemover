{
 "cells": [
  {
   "cell_type": "code",
   "execution_count": 2,
   "metadata": {},
   "outputs": [],
   "source": [
    "import cv2\n",
    "import numpy as np"
   ]
  },
  {
   "cell_type": "code",
   "execution_count": 3,
   "metadata": {},
   "outputs": [
    {
     "name": "stdout",
     "output_type": "stream",
     "text": [
      "frames processed:  543\n",
      "Frame returned is None\n",
      "Done\n"
     ]
    }
   ],
   "source": [
    "cap = cv2.VideoCapture('green_hand.mp4')\n",
    "\n",
    "i = 0\n",
    "new_video = []\n",
    "\n",
    "#loop over frames\n",
    "while(cap.isOpened()):\n",
    "    \n",
    "    #print('frames processed: ', i)\n",
    "    \n",
    "    #each call to cap.read() returns the next frame\n",
    "    val, frame = cap.read()   \n",
    "        \n",
    "    if frame is None:\n",
    "        print('Frame returned is None')\n",
    "        break             \n",
    "    \n",
    "    #if (i%10 == 0):\n",
    "    new_video.append(frame)\n",
    "    \n",
    "    #height, width = new_video[i].shape[:2]\n",
    "    \n",
    "    if(i < 100):\n",
    "        \n",
    "        for x in range(430, 450): #Left eye\n",
    "            for y in range(50, 70):\n",
    "                new_video[i][y,x] = [0, 0, 0] \n",
    "                \n",
    "        for x in range(470, 490): #Right eye\n",
    "            for y in range(50, 70):\n",
    "                new_video[i][y,x] = [0, 0, 0]\n",
    "                \n",
    "        for x in range(430, 490): #Mouth\n",
    "            for y in range(90, 110):\n",
    "                new_video[i][y,x] = [0, 0, 0]\n",
    "        \n",
    "        #if(i == 0):\n",
    "            #cv2.imwrite('messigray.png',new_video[i])\n",
    "           \n",
    "    if (i == 547): \n",
    "       print('frames processed: ', i)\n",
    "        \n",
    "    i=i+1\n",
    "    \n",
    "#convert the list to numpy array\n",
    "new_video = np.array(new_video)\n",
    "\n",
    "writer = cv2.VideoWriter('green_hand_smiley.avi', cv2.VideoWriter_fourcc(*'PIM1'), 30, (640, 360), True)\n",
    "\n",
    "    \n",
    "for x in new_video:\n",
    "    writer.write(x)   \n",
    "    \n",
    "print('Done')\n",
    "\n",
    "cap.release()\n",
    "writer.release()"
   ]
  },
  {
   "cell_type": "code",
   "execution_count": null,
   "metadata": {},
   "outputs": [],
   "source": []
  }
 ],
 "metadata": {
  "kernelspec": {
   "display_name": "Python [conda env:cv_course] *",
   "language": "python",
   "name": "conda-env-cv_course-py"
  },
  "language_info": {
   "codemirror_mode": {
    "name": "ipython",
    "version": 3
   },
   "file_extension": ".py",
   "mimetype": "text/x-python",
   "name": "python",
   "nbconvert_exporter": "python",
   "pygments_lexer": "ipython3",
   "version": "3.7.4"
  }
 },
 "nbformat": 4,
 "nbformat_minor": 2
}
