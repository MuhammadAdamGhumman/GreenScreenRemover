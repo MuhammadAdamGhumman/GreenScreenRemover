{
 "cells": [
  {
   "cell_type": "markdown",
   "metadata": {},
   "source": [
    "# <center>Artificial Intelligence Lab 1</center>\n",
    "# <center>Basics of python programming</center>"
   ]
  },
  {
   "cell_type": "markdown",
   "metadata": {},
   "source": [
    "## What is AI ?\n",
    "https://www.youtube.com/watch?v=ZX2JH2hu-Hg"
   ]
  },
  {
   "cell_type": "markdown",
   "metadata": {},
   "source": [
    "## Why Python?\n",
    " Python is different from other languages as it provides an easy interface for the user.\n",
    "As compared to C++ , it compiles line by line rather than compiling whole code file at once.\n",
    "Python is:\n",
    "- Easy\n",
    "- Expressive\n",
    "- Free and open source\n",
    "- High level\n",
    "- Interpreted\n",
    "- Large standard library\n",
    "- Dynamically typed\n",
    "\n",
    "## Limitations of python:\n",
    "- Speed limitations\n",
    "- Weak in mobile computing and browsers\n",
    "- Simple\n",
    "\n",
    "## Editing Platforms:\n",
    " - Pycharm\n",
    " - Jupyter Notebook\n",
    " - Spyder\n",
    " - IDE"
   ]
  },
  {
   "cell_type": "markdown",
   "metadata": {},
   "source": [
    "## Editor to be used in this course:\n",
    "- **Jupyter Notebook:**\n",
    "You can download Andconda (python 3.7 version) from here:\n",
    "https://www.anaconda.com/distribution/#download-section"
   ]
  },
  {
   "cell_type": "markdown",
   "metadata": {},
   "source": [
    "## Mostly used libraries:\n",
    "- **Pandas:** Pandas help us with munging and preparing data; it is great for operating on and maintaining structured data.\n",
    "\n",
    "- **SciPy:**\n",
    "SciPy (Scientific Python) stands on top of NumPy. With this library, we can carry out functionality like Linear Algebra, Fourier Transform, Optimization, and many others.\n",
    "\n",
    "- **NumPy:**\n",
    "NumPy (Numerical Python) is another library that lets us deal with features like linear algebra, Fourier transforms and advanced random number capabilities. One very import feature of NumPy is the n-dimensional array.\n",
    "\n",
    "- **Matplotlib:**\n",
    "Matplotlib will let you plot different kinds of graphs. These include pie charts, bar graphs, histograms, and even heat plots.\n",
    "\n",
    "- **Scikit-learn:**\n",
    "Scikit-learn is great for machine learning. It will let you statistically model and implement machine learning. The tools for these include clustering, regression, classification, and dimensionality reduction.\n",
    "\n",
    "- **Seaborn:**\n",
    "Seaborn is good with statistical data visualization. Making use of it, we can create useful and attractive graphics.\n",
    "\n",
    "- **Scrapy:**\n",
    "Scrapy will let you crawl the web. It begins on a home page and gets deeper within a website for information.\n"
   ]
  },
  {
   "cell_type": "markdown",
   "metadata": {},
   "source": [
    "## <center>Introduction to python syntax</center>\n"
   ]
  },
  {
   "cell_type": "markdown",
   "metadata": {},
   "source": [
    "#### Python Line Structure:\n",
    "    "
   ]
  },
  {
   "cell_type": "code",
   "execution_count": 19,
   "metadata": {},
   "outputs": [
    {
     "name": "stdout",
     "output_type": "stream",
     "text": [
      "Hi, How are you?\n"
     ]
    }
   ],
   "source": [
    "print ('Hi, How are you?')"
   ]
  },
  {
   "cell_type": "markdown",
   "metadata": {},
   "source": [
    "#### Indentation:"
   ]
  },
  {
   "cell_type": "code",
   "execution_count": 22,
   "metadata": {},
   "outputs": [
    {
     "name": "stdout",
     "output_type": "stream",
     "text": [
      "But 1 is worthy too\n"
     ]
    }
   ],
   "source": [
    "if 2<1:\n",
    "    print(\"2 is the bigger person\")\n",
    "print(\"But 1 is worthy too\")\n"
   ]
  },
  {
   "cell_type": "code",
   "execution_count": 24,
   "metadata": {},
   "outputs": [
    {
     "name": "stdout",
     "output_type": "stream",
     "text": [
      "a is 1\n",
      "a is 2 and b is 3\n",
      "a is 1\n"
     ]
    }
   ],
   "source": [
    "a=1\n",
    "b = 3\n",
    "if a==1:\n",
    "    print('a is 1')\n",
    "    if b == 3:\n",
    "        print('a is 2 and b is 3')\n",
    "if a==1:\n",
    "    print('a is 1')"
   ]
  },
  {
   "cell_type": "markdown",
   "metadata": {},
   "source": [
    "#### Python Variables:"
   ]
  },
  {
   "cell_type": "code",
   "execution_count": 26,
   "metadata": {},
   "outputs": [
    {
     "name": "stdout",
     "output_type": "stream",
     "text": [
      "10\n",
      "hello\n"
     ]
    }
   ],
   "source": [
    "x = 10\n",
    "print (x)\n",
    "x = 'hello'\n",
    "print (x)"
   ]
  },
  {
   "cell_type": "markdown",
   "metadata": {},
   "source": [
    "#### Python String Formatters:"
   ]
  },
  {
   "cell_type": "code",
   "execution_count": 27,
   "metadata": {},
   "outputs": [
    {
     "name": "stdout",
     "output_type": "stream",
     "text": [
      "I just printed 10 pages to the printer HP\n",
      "I just printed 10 pages to the printer HP\n"
     ]
    }
   ],
   "source": [
    "x=10;  printer=\"HP\"\n",
    "print(\"I just printed %s pages to the printer %s\" % (x, printer))\n",
    "print(\"I just printed\", x, \"pages to the printer\", printer)"
   ]
  },
  {
   "cell_type": "markdown",
   "metadata": {},
   "source": [
    "#### Function writing in python"
   ]
  },
  {
   "cell_type": "code",
   "execution_count": 29,
   "metadata": {},
   "outputs": [
    {
     "name": "stdout",
     "output_type": "stream",
     "text": [
      "hi\n"
     ]
    }
   ],
   "source": [
    "# Greeting Function\n",
    "\n",
    "def sayhi():\n",
    "    print ('hi')"
   ]
  },
  {
   "cell_type": "code",
   "execution_count": 30,
   "metadata": {},
   "outputs": [
    {
     "name": "stdout",
     "output_type": "stream",
     "text": [
      "hi\n"
     ]
    }
   ],
   "source": [
    "sayhi()"
   ]
  },
  {
   "cell_type": "code",
   "execution_count": 32,
   "metadata": {},
   "outputs": [],
   "source": [
    "# Addition function\n",
    "\n",
    "def add(a,b):\n",
    "    c = a+b\n",
    "    return c"
   ]
  },
  {
   "cell_type": "code",
   "execution_count": 34,
   "metadata": {},
   "outputs": [
    {
     "name": "stdout",
     "output_type": "stream",
     "text": [
      "9\n"
     ]
    }
   ],
   "source": [
    "g = add(4,5)\n",
    "print (g)"
   ]
  },
  {
   "cell_type": "markdown",
   "metadata": {},
   "source": [
    "#### Exercise 1:\n",
    "**Write a function that gives acceleration of a car given its initial and final velocites, at time t1 and t2 respectively.** "
   ]
  },
  {
   "cell_type": "code",
   "execution_count": 2,
   "metadata": {},
   "outputs": [
    {
     "name": "stdout",
     "output_type": "stream",
     "text": [
      "1.0\n"
     ]
    }
   ],
   "source": [
    "def accel(vi,vf,t1,t2):\n",
    "    a=((vf-vi)/(t2-t1))\n",
    "    return a\n",
    "\n",
    "x=accel(4,2,4,2)\n",
    "\n",
    "print(x)"
   ]
  },
  {
   "cell_type": "markdown",
   "metadata": {},
   "source": [
    "### Python loops:"
   ]
  },
  {
   "cell_type": "code",
   "execution_count": 44,
   "metadata": {},
   "outputs": [
    {
     "name": "stdout",
     "output_type": "stream",
     "text": [
      "0\n",
      "1\n",
      "2\n",
      "3\n",
      "4\n",
      "5\n",
      "6\n",
      "Reached else\n"
     ]
    }
   ],
   "source": [
    "######## While Loop:\n",
    "# a=3\n",
    "# while(a>0):\n",
    "#     print(a)\n",
    "#     a-=1\n",
    "    \n",
    "# ####### For Loop\n",
    "# for a in range(1,10,2):\n",
    "#         print(a)\n",
    "        \n",
    "        \n",
    "#####  \n",
    "for i in range(10):\n",
    "        if(i==7): break\n",
    "        print(i)\n",
    "print(\"Reached else\")"
   ]
  },
  {
   "cell_type": "code",
   "execution_count": 49,
   "metadata": {},
   "outputs": [
    {
     "name": "stdout",
     "output_type": "stream",
     "text": [
      "* \n",
      "* * \n",
      "* * * \n",
      "* * * * \n",
      "* * * * * \n"
     ]
    }
   ],
   "source": [
    "#########\n",
    "for i in range(1,6):\n",
    "        for j in range(i):\n",
    "            print(\"*\",end=' ')\n",
    "        print()"
   ]
  },
  {
   "cell_type": "markdown",
   "metadata": {},
   "source": [
    "#### Exercise 2:\n",
    "**Write a function that generates the above output using while loop. And show the output by using function's call.**"
   ]
  },
  {
   "cell_type": "code",
   "execution_count": 13,
   "metadata": {},
   "outputs": [
    {
     "name": "stdout",
     "output_type": "stream",
     "text": [
      "* \n",
      "* * \n",
      "* * * \n",
      "* * * * \n",
      "* * * * * \n"
     ]
    }
   ],
   "source": [
    "a=1\n",
    "b=0\n",
    "while(a<6):\n",
    "    while(b<a):\n",
    "        print(\"*\",end=' ')\n",
    "        b+=1\n",
    "    print()\n",
    "    a+=1\n",
    "    b=0"
   ]
  },
  {
   "cell_type": "markdown",
   "metadata": {},
   "source": [
    "### Dealing with numpy arrays:"
   ]
  },
  {
   "cell_type": "code",
   "execution_count": 9,
   "metadata": {},
   "outputs": [
    {
     "name": "stdout",
     "output_type": "stream",
     "text": [
      "[[1 2 3]\n",
      " [4 5 6]\n",
      " [2 3 4]]\n",
      "(3, 3)\n",
      "int32\n"
     ]
    }
   ],
   "source": [
    "import numpy as np\n",
    "e  = np.array([(1,2,3), (4,5,6),(2,3,4)])\n",
    "print(e)\n",
    "print(e.shape)\n",
    "print(e.dtype)"
   ]
  },
  {
   "cell_type": "code",
   "execution_count": null,
   "metadata": {},
   "outputs": [],
   "source": [
    "#### Matrix of zeroes\n",
    "b = np.zeros((2,2))"
   ]
  },
  {
   "cell_type": "code",
   "execution_count": 34,
   "metadata": {},
   "outputs": [
    {
     "name": "stdout",
     "output_type": "stream",
     "text": [
      "[ 5  7  9 11 13]\n"
     ]
    }
   ],
   "source": [
    "#### Reshape and flatten\n",
    "import numpy as np\n",
    "e  = np.array([(1,2,3), (4,5,6)])\n",
    "\n",
    "#e = e.reshape(3,2)\n",
    "#print(e)\n",
    "#e.flatten()\n",
    "\n",
    "a = np.arange(5, 15,2)\n",
    "print(a)"
   ]
  },
  {
   "cell_type": "code",
   "execution_count": 60,
   "metadata": {},
   "outputs": [
    {
     "data": {
      "text/plain": [
       "14"
      ]
     },
     "execution_count": 60,
     "metadata": {},
     "output_type": "execute_result"
    }
   ],
   "source": [
    "##### Dot Product\n",
    "f = np.array([1,2])\n",
    "g = np.array([4,5])\n",
    "### 1*4+2*5\n",
    "np.dot(f, g)"
   ]
  },
  {
   "cell_type": "code",
   "execution_count": 61,
   "metadata": {},
   "outputs": [
    {
     "data": {
      "text/plain": [
       "array([[19, 22],\n",
       "       [43, 50]])"
      ]
     },
     "execution_count": 61,
     "metadata": {},
     "output_type": "execute_result"
    }
   ],
   "source": [
    "### matrix multiplication\n",
    "h = [[1,2],[3,4]] \n",
    "i = [[5,6],[7,8]] \n",
    "### 1*5+2*7 = 19\n",
    "np.matmul(h, i)"
   ]
  },
  {
   "cell_type": "code",
   "execution_count": 47,
   "metadata": {},
   "outputs": [
    {
     "name": "stdout",
     "output_type": "stream",
     "text": [
      "First row: [1 2 3]\n",
      "Second column: [2 5]\n",
      "[4 5]\n"
     ]
    }
   ],
   "source": [
    "########### Slicing##########\n",
    "e  = np.array([(1,2,3), (4,5,6)])\n",
    "# #print first row\n",
    "# print('First row:', e[1])\n",
    "# print second column\n",
    "print('Second column:', e[:,1])\n",
    "# # ## Second Row, two values\n",
    "print(e[1, 0:2])"
   ]
  },
  {
   "cell_type": "markdown",
   "metadata": {},
   "source": [
    "#### Exercise 3:\n",
    "**Write a NumPy program to create a 10x10 matrix and extract a 5x5 matrix from its centre.**"
   ]
  },
  {
   "cell_type": "code",
   "execution_count": 87,
   "metadata": {},
   "outputs": [
    {
     "name": "stdout",
     "output_type": "stream",
     "text": [
      "[22. 23. 24. 25. 26.]\n",
      "[32. 33. 34. 35. 36.]\n",
      "[42. 43. 44. 45. 46.]\n",
      "[52. 53. 54. 55. 56.]\n",
      "[62. 63. 64. 65. 66.]\n"
     ]
    }
   ],
   "source": [
    "import numpy as np\n",
    "e  = np.zeros((10,10))\n",
    "\n",
    "a=0\n",
    "for i in range(0,10):\n",
    "    for j in range(0,10):\n",
    "        e[i,j]=a\n",
    "        a+=1\n",
    "\n",
    "for i in range(2,7):\n",
    "    print(e[i, 2:7])\n",
    "\n",
    "#print(e)"
   ]
  },
  {
   "cell_type": "markdown",
   "metadata": {},
   "source": [
    "#### Exercise 4:\n",
    "**Write a NumPy program to create a 10x10 matrix, in which the elements on the borders will be equal to 1, and inside 0.**"
   ]
  },
  {
   "cell_type": "code",
   "execution_count": 91,
   "metadata": {},
   "outputs": [
    {
     "name": "stdout",
     "output_type": "stream",
     "text": [
      "[[1. 1. 1. 1. 1. 1. 1. 1. 1. 1.]\n",
      " [1. 0. 0. 0. 0. 0. 0. 0. 0. 1.]\n",
      " [1. 0. 0. 0. 0. 0. 0. 0. 0. 1.]\n",
      " [1. 0. 0. 0. 0. 0. 0. 0. 0. 1.]\n",
      " [1. 0. 0. 0. 0. 0. 0. 0. 0. 1.]\n",
      " [1. 0. 0. 0. 0. 0. 0. 0. 0. 1.]\n",
      " [1. 0. 0. 0. 0. 0. 0. 0. 0. 1.]\n",
      " [1. 0. 0. 0. 0. 0. 0. 0. 0. 1.]\n",
      " [1. 0. 0. 0. 0. 0. 0. 0. 0. 1.]\n",
      " [1. 1. 1. 1. 1. 1. 1. 1. 1. 1.]]\n"
     ]
    }
   ],
   "source": [
    "import numpy as np\n",
    "e  = np.zeros((10,10))\n",
    "\n",
    "for i in range(0,10):\n",
    "    for j in range(0,10):\n",
    "        if i==0:\n",
    "            e[i,j]=1\n",
    "        if j==0:\n",
    "            e[i,j]=1\n",
    "        if j==9:\n",
    "            e[i,j]=1\n",
    "        if j==9:\n",
    "            e[i,j]=1\n",
    "\n",
    "print(e)"
   ]
  },
  {
   "cell_type": "markdown",
   "metadata": {},
   "source": [
    "### Graph plotting using Matplotlib"
   ]
  },
  {
   "cell_type": "code",
   "execution_count": 126,
   "metadata": {},
   "outputs": [
    {
     "data": {
      "image/png": "[encoded data removed]",
      "text/plain": [
       "<Figure size 432x288 with 1 Axes>"
      ]
     },
     "metadata": {
      "needs_background": "light"
     },
     "output_type": "display_data"
    }
   ],
   "source": [
    "import matplotlib.pyplot as plt\n",
    "x = np.linspace(0, 2, 100)\n",
    "#print (x)\n",
    "plt.plot(x, x, label='linear')\n",
    "plt.plot(x, x**2, label='quadratic')\n",
    "plt.plot(x, x**3, label='cubic')\n",
    "\n",
    "plt.xlabel('x label')\n",
    "plt.ylabel('y label')\n",
    "\n",
    "plt.title(\"Simple Plot\")\n",
    "\n",
    "plt.legend()\n",
    "\n",
    "plt.show()"
   ]
  },
  {
   "cell_type": "markdown",
   "metadata": {},
   "source": [
    "#### Exercise 5:\n",
    "**Write a NumPy program to compute the x and y coordinates for points on a sine curve and plot the points using matplotlib.**"
   ]
  },
  {
   "cell_type": "code",
   "execution_count": 125,
   "metadata": {
    "scrolled": true
   },
   "outputs": [
    {
     "data": {
      "image/png": "[encoded data removed]",
      "text/plain": [
       "<Figure size 432x288 with 1 Axes>"
      ]
     },
     "metadata": {
      "needs_background": "light"
     },
     "output_type": "display_data"
    }
   ],
   "source": [
    "import matplotlib.pyplot as plt\n",
    "x = np.linspace(0, 10, 100)\n",
    "y = np.sin(x)\n",
    "\n",
    "plt.plot(x, y, label='Sin')\n",
    "\n",
    "plt.xlabel('x axis')\n",
    "plt.ylabel('y axis')\n",
    "\n",
    "plt.title(\"Sin Graph\")\n",
    "\n",
    "plt.legend()\n",
    "\n",
    "plt.show()"
   ]
  },
  {
   "cell_type": "code",
   "execution_count": null,
   "metadata": {},
   "outputs": [],
   "source": []
  }
 ],
 "metadata": {
  "kernelspec": {
   "display_name": "Python 3",
   "language": "python",
   "name": "python3"
  },
  "language_info": {
   "codemirror_mode": {
    "name": "ipython",
    "version": 3
   },
   "file_extension": ".py",
   "mimetype": "text/x-python",
   "name": "python",
   "nbconvert_exporter": "python",
   "pygments_lexer": "ipython3",
   "version": "3.7.4"
  }
 },
 "nbformat": 4,
 "nbformat_minor": 2
}
